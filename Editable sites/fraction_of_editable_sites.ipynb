{
 "cells": [
  {
   "cell_type": "markdown",
   "metadata": {},
   "source": [
    "# Estimate fraction of editable SNVs"
   ]
  },
  {
   "cell_type": "code",
   "execution_count": 1,
   "metadata": {},
   "outputs": [],
   "source": [
    "import os\n",
    "import pandas as pd\n",
    "from Bio import Seq,SeqIO,AlignIO\n",
    "import matplotlib.pyplot as plt\n",
    "import numpy as np\n",
    "import bz2\n",
    "import gzip\n",
    "from glob import glob\n",
    "from collections import Counter\n",
    "import matplotlib.patches as mpatches\n",
    "import re\n",
    "import matplotlib as mpl\n",
    "from Bio import Phylo\n",
    "%matplotlib inline\n",
    "%config InlineBackend.figure_format = 'svg'\n",
    "plt.rcParams['svg.fonttype'] = 'none'\n",
    "mpl.rcParams['figure.dpi']= 100"
   ]
  },
  {
   "cell_type": "markdown",
   "metadata": {},
   "source": [
    "## Get SNVs"
   ]
  },
  {
   "cell_type": "code",
   "execution_count": 2,
   "metadata": {},
   "outputs": [
    {
     "data": {
      "text/plain": [
       "141122"
      ]
     },
     "execution_count": 2,
     "metadata": {},
     "output_type": "execute_result"
    }
   ],
   "source": [
    "clinvar_data = pd.read_csv('filtered_variant_summary_35_nt.tsv', sep='\\t', index_col=0)\n",
    "clinvar_data.shape[0]"
   ]
  },
  {
   "cell_type": "code",
   "execution_count": 3,
   "metadata": {},
   "outputs": [
    {
     "data": {
      "text/plain": [
       "93743"
      ]
     },
     "execution_count": 3,
     "metadata": {},
     "output_type": "execute_result"
    }
   ],
   "source": [
    "clinvar_SNV = clinvar_data[clinvar_data['Type']=='single nucleotide variant']\n",
    "clinvar_SNV.shape[0]"
   ]
  },
  {
   "cell_type": "markdown",
   "metadata": {},
   "source": [
    "Here we are simply considering A to G conversion that restore the wild-type G. One can also consider A to G conversions that install synonimus substitutions."
   ]
  },
  {
   "cell_type": "code",
   "execution_count": 4,
   "metadata": {},
   "outputs": [],
   "source": [
    "clinvar_SNV_G2A = clinvar_SNV[(clinvar_SNV['AlternateAlleleVCF']=='A') & (clinvar_SNV['ReferenceAlleleVCF']=='G')]"
   ]
  },
  {
   "cell_type": "code",
   "execution_count": 5,
   "metadata": {},
   "outputs": [],
   "source": [
    "clinvar_SNV_C2T = clinvar_SNV[(clinvar_SNV['AlternateAlleleVCF']=='T') & (clinvar_SNV['ReferenceAlleleVCF']=='C')]"
   ]
  },
  {
   "cell_type": "code",
   "execution_count": 6,
   "metadata": {},
   "outputs": [
    {
     "data": {
      "text/plain": [
       "40871"
      ]
     },
     "execution_count": 6,
     "metadata": {},
     "output_type": "execute_result"
    }
   ],
   "source": [
    "clinvar_SNV_G2A.shape[0]+clinvar_SNV_C2T.shape[0]"
   ]
  },
  {
   "cell_type": "markdown",
   "metadata": {},
   "source": [
    "## Read editing data and define windows"
   ]
  },
  {
   "cell_type": "code",
   "execution_count": 7,
   "metadata": {},
   "outputs": [],
   "source": [
    "data_tables = glob('*_all-loci.txt')"
   ]
  },
  {
   "cell_type": "code",
   "execution_count": 8,
   "metadata": {},
   "outputs": [],
   "source": [
    "data = {f.split('/')[-1].split('.')[0]:pd.read_csv(f, sep='\\t', index_col=0) for f in data_tables}"
   ]
  },
  {
   "cell_type": "code",
   "execution_count": 9,
   "metadata": {},
   "outputs": [],
   "source": [
    "mean_editing = {}\n",
    "for f in data:\n",
    "    mean_editing[f] = data[f].apply(np.mean, axis=1).reset_index()\n",
    "    mean_editing[f].columns = ['A#', 'Mean % editing']\n",
    "    mean_editing[f].index = [int(A.replace('A', ''))for A in mean_editing[f]['A#'].values]\n",
    "    mean_editing[f] = mean_editing[f].sort_index()"
   ]
  },
  {
   "cell_type": "code",
   "execution_count": 10,
   "metadata": {},
   "outputs": [],
   "source": [
    "min_editing_in_window = 10.0\n",
    "in_window = {}\n",
    "\n",
    "for f in mean_editing:\n",
    "    #min_editing_in_window = mean_editing[f]['Mean % editing'].max()*0.25\n",
    "    in_window[f] = mean_editing[f][mean_editing[f]['Mean % editing']>=min_editing_in_window].index"
   ]
  },
  {
   "cell_type": "code",
   "execution_count": 11,
   "metadata": {},
   "outputs": [
    {
     "data": {
      "text/plain": [
       "{'AIK-ABE8e_all-loci': Int64Index([6, 8, 9, 10, 12, 13, 14, 16, 17, 19], dtype='int64'),\n",
       " 'Cj-ABE8e_all-loci': Int64Index([9, 11, 16], dtype='int64'),\n",
       " 'Nme2-ABE8e_all-loci': Int64Index([11, 12, 13, 14, 16, 17, 18, 19], dtype='int64'),\n",
       " 'Sa-ABE8e_all-loci': Int64Index([8, 9, 10, 11, 12, 13, 14, 15, 16, 18, 19], dtype='int64'),\n",
       " 'Sauri-ABE8e_all-loci': Int64Index([7, 8, 9, 10, 11, 12, 13, 14, 15, 16, 17, 19], dtype='int64')}"
      ]
     },
     "execution_count": 11,
     "metadata": {},
     "output_type": "execute_result"
    }
   ],
   "source": [
    "in_window"
   ]
  },
  {
   "cell_type": "code",
   "execution_count": 12,
   "metadata": {},
   "outputs": [],
   "source": [
    "# Our new windows (min 10% editing)\n",
    "windows = {\n",
    "    'ABE8e-nCoCas9': [(6,6), (8,10), (12,14), (16,17), (19,19)],\n",
    "    'ABE8e-nSaCas9': [(8,16), (18,19)],\n",
    "    'Cj-ABE8e': [(9,9), (11,11), (16,16)],\n",
    "    'ABE8e-nNme2Cas9': [(11,14), (16,19)],\n",
    "    'Sauri-ABE8e': [(7,17), (19,19)],\n",
    "#    'ABE8e-SpCas9': [(7,17)]\n",
    "}"
   ]
  },
  {
   "cell_type": "markdown",
   "metadata": {},
   "source": [
    "## Get PAMs and windows"
   ]
  },
  {
   "cell_type": "code",
   "execution_count": 13,
   "metadata": {},
   "outputs": [],
   "source": [
    "PAMs = {\n",
    "    'ABE8e-nCoCas9': 'NNNNRHNT',\n",
    "    'ABE8e-nSaCas9': 'NNGRRT',\n",
    "    'Cj-ABE8e': 'NNNVRYAC',\n",
    "    'ABE8e-nNme2Cas9': 'NNNNCC',\n",
    "    'Sauri-ABE8e': 'NNGG'\n",
    "#    'ABE8e-SpCas9': 'NGG'\n",
    "}"
   ]
  },
  {
   "cell_type": "code",
   "execution_count": 14,
   "metadata": {},
   "outputs": [],
   "source": [
    "spacer_len = {\n",
    "    'ABE8e-nCoCas9': 23,\n",
    "    'ABE8e-nSaCas9': 21,\n",
    "    'Cj-ABE8e': 22,\n",
    "    'ABE8e-nNme2Cas9': 22,\n",
    "    'Sauri-ABE8e': 21\n",
    "#    'ABE8e-SpCas9': 20\n",
    "}"
   ]
  },
  {
   "cell_type": "code",
   "execution_count": 15,
   "metadata": {},
   "outputs": [],
   "source": [
    "PAM_offset = {ABE:len(PAMs[ABE])-len(PAMs[ABE].lstrip('N')) for ABE in PAMs}"
   ]
  },
  {
   "cell_type": "code",
   "execution_count": 16,
   "metadata": {},
   "outputs": [
    {
     "data": {
      "text/plain": [
       "{'ABE8e-nCoCas9': 4,\n",
       " 'ABE8e-nSaCas9': 2,\n",
       " 'Cj-ABE8e': 3,\n",
       " 'ABE8e-nNme2Cas9': 4,\n",
       " 'Sauri-ABE8e': 2}"
      ]
     },
     "execution_count": 16,
     "metadata": {},
     "output_type": "execute_result"
    }
   ],
   "source": [
    "PAM_offset"
   ]
  },
  {
   "cell_type": "code",
   "execution_count": 17,
   "metadata": {},
   "outputs": [],
   "source": [
    "IUPAC = {\n",
    "    'R': ('A', 'G'),\n",
    "    'Y': ('C', 'T'),\n",
    "    'S': ('C', 'G'),\n",
    "    'W': ('A', 'T'),\n",
    "    'K': ('G', 'T'),\n",
    "    'M': ('A', 'C'),\n",
    "    'B': ('C', 'G', 'T'),\n",
    "    'D': ('A', 'G', 'T'),\n",
    "    'H': ('A', 'C', 'T'),\n",
    "    'V': ('A', 'C', 'G'),\n",
    "    'N': ('A', 'C', 'G', 'T')\n",
    "}"
   ]
  },
  {
   "cell_type": "code",
   "execution_count": 18,
   "metadata": {},
   "outputs": [],
   "source": [
    "# do it recursively\n",
    "def make_PAM_seq(PAM):\n",
    "    if len(PAM) > 1:\n",
    "        return [b+x for b in PAM[0] for x in make_PAM_seq(PAM[1:])]\n",
    "    else:\n",
    "        return PAM[0]"
   ]
  },
  {
   "cell_type": "code",
   "execution_count": 19,
   "metadata": {},
   "outputs": [],
   "source": [
    "def expand_PAM(PAM, IUPAC=IUPAC):\n",
    "    seq_combinations = []\n",
    "    for L in PAM:\n",
    "        if L not in IUPAC:\n",
    "            seq_combinations.append([L])\n",
    "        else:\n",
    "            seq_combinations.append(IUPAC[L])\n",
    "    return make_PAM_seq(seq_combinations)"
   ]
  },
  {
   "cell_type": "code",
   "execution_count": 20,
   "metadata": {},
   "outputs": [],
   "source": [
    "PAM_expanded = {ABE:expand_PAM(PAMs[ABE].lstrip('N')) for ABE in PAMs}"
   ]
  },
  {
   "cell_type": "code",
   "execution_count": 21,
   "metadata": {},
   "outputs": [],
   "source": [
    "PAM_expanded['ABE8e-nCoCas9'] = [res for PAM in ['ATDT', 'GCDT', 'GWNT'] for res in expand_PAM(PAM)]"
   ]
  },
  {
   "cell_type": "code",
   "execution_count": 22,
   "metadata": {},
   "outputs": [
    {
     "data": {
      "text/plain": [
       "{'ABE8e-nCoCas9': [range(22, 23),\n",
       "  range(18, 21),\n",
       "  range(14, 17),\n",
       "  range(11, 13),\n",
       "  range(9, 10)],\n",
       " 'ABE8e-nSaCas9': [range(8, 17), range(5, 7)],\n",
       " 'Cj-ABE8e': [range(17, 18), range(15, 16), range(10, 11)],\n",
       " 'ABE8e-nNme2Cas9': [range(13, 17), range(8, 12)],\n",
       " 'Sauri-ABE8e': [range(7, 18), range(5, 6)]}"
      ]
     },
     "execution_count": 22,
     "metadata": {},
     "output_type": "execute_result"
    }
   ],
   "source": [
    "windows_offset = {ABE:[range(-w[1]+PAM_offset[ABE]+spacer_len[ABE]+1, -w[0]+PAM_offset[ABE]+spacer_len[ABE]+2) for w in windows[ABE]]\n",
    "                  for ABE in windows}\n",
    "windows_offset"
   ]
  },
  {
   "cell_type": "markdown",
   "metadata": {},
   "source": [
    "## Find PAMs flanking SNVs"
   ]
  },
  {
   "cell_type": "code",
   "execution_count": 23,
   "metadata": {},
   "outputs": [],
   "source": [
    "editable_G2A = []\n",
    "for flank in clinvar_SNV_G2A['Downstream'].values:\n",
    "    ABE_targed = {}\n",
    "    for ABE in PAM_expanded:\n",
    "        ABE_targed[ABE] = False\n",
    "        for PAM in PAM_expanded[ABE]:\n",
    "            for match_pos in [m.start() for m in re.finditer('(?={})'.format(PAM), flank)]:\n",
    "                for window_range in windows_offset[ABE]:\n",
    "                    if match_pos-1 in window_range:\n",
    "                        ABE_targed[ABE] = True\n",
    "    editable_G2A.append(ABE_targed)"
   ]
  },
  {
   "cell_type": "code",
   "execution_count": 24,
   "metadata": {},
   "outputs": [],
   "source": [
    "editable_G2A = pd.DataFrame(editable_G2A)"
   ]
  },
  {
   "cell_type": "code",
   "execution_count": 25,
   "metadata": {},
   "outputs": [
    {
     "data": {
      "text/plain": [
       "ABE8e-nCoCas9      0.370253\n",
       "ABE8e-nSaCas9      0.154349\n",
       "Cj-ABE8e           0.026359\n",
       "ABE8e-nNme2Cas9    0.403983\n",
       "Sauri-ABE8e        0.542468\n",
       "dtype: float64"
      ]
     },
     "execution_count": 25,
     "metadata": {},
     "output_type": "execute_result"
    }
   ],
   "source": [
    "editable_G2A.sum().divide(clinvar_SNV_G2A.shape[0])"
   ]
  },
  {
   "cell_type": "code",
   "execution_count": 26,
   "metadata": {},
   "outputs": [
    {
     "data": {
      "text/plain": [
       "0.880113248071854"
      ]
     },
     "execution_count": 26,
     "metadata": {},
     "output_type": "execute_result"
    }
   ],
   "source": [
    "(editable_G2A.sum(axis=1)!=0).sum()/clinvar_SNV_G2A.shape[0]"
   ]
  },
  {
   "cell_type": "code",
   "execution_count": 27,
   "metadata": {},
   "outputs": [
    {
     "data": {
      "text/plain": [
       "0.7746753880699014"
      ]
     },
     "execution_count": 27,
     "metadata": {},
     "output_type": "execute_result"
    }
   ],
   "source": [
    "(editable_G2A[['ABE8e-nSaCas9', 'Cj-ABE8e', 'ABE8e-nNme2Cas9', 'Sauri-ABE8e']].sum(axis=1)!=0).sum()/clinvar_SNV_G2A.shape[0]"
   ]
  },
  {
   "cell_type": "code",
   "execution_count": 28,
   "metadata": {},
   "outputs": [],
   "source": [
    "editable_C2T = []\n",
    "for flank in clinvar_SNV_G2A['Upstream'].values:\n",
    "    flank = str(Seq.Seq(flank).reverse_complement())\n",
    "    ABE_targed = {}\n",
    "    for ABE in PAM_expanded:\n",
    "        ABE_targed[ABE] = False\n",
    "        for PAM in PAM_expanded[ABE]:\n",
    "            for match_pos in [m.start() for m in re.finditer('(?={})'.format(PAM), flank)]:\n",
    "                for window_range in windows_offset[ABE]:\n",
    "                    if match_pos-1 in window_range:\n",
    "                        ABE_targed[ABE] = True\n",
    "    editable_C2T.append(ABE_targed)"
   ]
  },
  {
   "cell_type": "code",
   "execution_count": 29,
   "metadata": {},
   "outputs": [],
   "source": [
    "editable_C2T = pd.DataFrame(editable_C2T)"
   ]
  },
  {
   "cell_type": "code",
   "execution_count": 30,
   "metadata": {},
   "outputs": [
    {
     "data": {
      "text/plain": [
       "ABE8e-nCoCas9      0.352122\n",
       "ABE8e-nSaCas9      0.151386\n",
       "Cj-ABE8e           0.025950\n",
       "ABE8e-nNme2Cas9    0.404513\n",
       "Sauri-ABE8e        0.543144\n",
       "dtype: float64"
      ]
     },
     "execution_count": 30,
     "metadata": {},
     "output_type": "execute_result"
    }
   ],
   "source": [
    "editable_C2T.sum().divide(clinvar_SNV_C2T.shape[0])"
   ]
  },
  {
   "cell_type": "code",
   "execution_count": 31,
   "metadata": {},
   "outputs": [
    {
     "data": {
      "text/plain": [
       "0.8766249693402012"
      ]
     },
     "execution_count": 31,
     "metadata": {},
     "output_type": "execute_result"
    }
   ],
   "source": [
    "(editable_C2T.sum(axis=1)!=0).sum()/clinvar_SNV_C2T.shape[0]"
   ]
  },
  {
   "cell_type": "code",
   "execution_count": 32,
   "metadata": {},
   "outputs": [
    {
     "data": {
      "text/plain": [
       "0.7800833946529311"
      ]
     },
     "execution_count": 32,
     "metadata": {},
     "output_type": "execute_result"
    }
   ],
   "source": [
    "(editable_C2T[['ABE8e-nSaCas9', 'Cj-ABE8e', 'ABE8e-nNme2Cas9', 'Sauri-ABE8e']].sum(axis=1)!=0).sum()/clinvar_SNV_C2T.shape[0]"
   ]
  },
  {
   "cell_type": "code",
   "execution_count": 33,
   "metadata": {},
   "outputs": [],
   "source": [
    "editable_all = pd.concat([editable_G2A, editable_C2T])"
   ]
  },
  {
   "cell_type": "code",
   "execution_count": 34,
   "metadata": {},
   "outputs": [
    {
     "data": {
      "text/plain": [
       "ABE8e-nCoCas9      0.361210\n",
       "ABE8e-nSaCas9      0.152871\n",
       "Cj-ABE8e           0.026155\n",
       "ABE8e-nNme2Cas9    0.404248\n",
       "Sauri-ABE8e        0.542805\n",
       "dtype: float64"
      ]
     },
     "execution_count": 34,
     "metadata": {},
     "output_type": "execute_result"
    }
   ],
   "source": [
    "editable_all.sum().divide(clinvar_SNV_C2T.shape[0]+clinvar_SNV_G2A.shape[0])"
   ]
  },
  {
   "cell_type": "code",
   "execution_count": 35,
   "metadata": {},
   "outputs": [
    {
     "data": {
      "text/plain": [
       "0.87837341880551"
      ]
     },
     "execution_count": 35,
     "metadata": {},
     "output_type": "execute_result"
    }
   ],
   "source": [
    "(editable_all.sum(axis=1)!=0).sum()/(clinvar_SNV_C2T.shape[0]+clinvar_SNV_G2A.shape[0])"
   ]
  },
  {
   "cell_type": "code",
   "execution_count": 36,
   "metadata": {},
   "outputs": [
    {
     "data": {
      "text/plain": [
       "0.7773727092559517"
      ]
     },
     "execution_count": 36,
     "metadata": {},
     "output_type": "execute_result"
    }
   ],
   "source": [
    "(editable_all[['ABE8e-nSaCas9', 'Cj-ABE8e', 'ABE8e-nNme2Cas9', 'Sauri-ABE8e']].sum(axis=1)!=0).sum()/(\n",
    "    clinvar_SNV_C2T.shape[0]+clinvar_SNV_G2A.shape[0])"
   ]
  },
  {
   "cell_type": "code",
   "execution_count": 37,
   "metadata": {},
   "outputs": [],
   "source": [
    "total_loci = clinvar_SNV_C2T.shape[0] + clinvar_SNV_G2A.shape[0]"
   ]
  },
  {
   "cell_type": "code",
   "execution_count": 63,
   "metadata": {},
   "outputs": [],
   "source": [
    "to_plot = {ABE:pd.Series({'Targetable':editable_all[ABE].sum(), 'Not targetable':total_loci-editable_all[ABE].sum()}) for ABE in PAMs}"
   ]
  },
  {
   "cell_type": "code",
   "execution_count": 64,
   "metadata": {},
   "outputs": [],
   "source": [
    "to_plot['All 5 base\\neditors'] = pd.Series(\n",
    "    {'Targetable only by ABE8e-nCoCas9':(editable_all.sum(axis=1)!=0).sum()-(editable_all[['ABE8e-nSaCas9', 'Cj-ABE8e', 'ABE8e-nNme2Cas9',\n",
    "        'Sauri-ABE8e']].sum(axis=1)!=0).sum(),\n",
    "     'Targetable by other miniature base editors': (editable_all[['ABE8e-nSaCas9', 'Cj-ABE8e', 'ABE8e-nNme2Cas9', 'Sauri-ABE8e']].sum(\n",
    "         axis=1)!=0).sum(),\n",
    "    'Not targetable':total_loci-(editable_all.sum(axis=1)!=0).sum()})"
   ]
  },
  {
   "cell_type": "code",
   "execution_count": 65,
   "metadata": {},
   "outputs": [
    {
     "data": {
      "text/plain": [
       "Targetable only by ABE8e-nCoCas9               4128\n",
       "Targetable by other miniature base editors    31772\n",
       "Not targetable                                 4971\n",
       "dtype: int64"
      ]
     },
     "execution_count": 65,
     "metadata": {},
     "output_type": "execute_result"
    }
   ],
   "source": [
    "to_plot['All 5 base\\neditors']"
   ]
  },
  {
   "cell_type": "code",
   "execution_count": 66,
   "metadata": {},
   "outputs": [
    {
     "data": {
      "text/plain": [
       "dict_keys(['ABE8e-nCoCas9', 'ABE8e-nSaCas9', 'Cj-ABE8e', 'ABE8e-nNme2Cas9', 'Sauri-ABE8e', 'All 5 base\\neditors'])"
      ]
     },
     "execution_count": 66,
     "metadata": {},
     "output_type": "execute_result"
    }
   ],
   "source": [
    "to_plot.keys()"
   ]
  },
  {
   "cell_type": "markdown",
   "metadata": {},
   "source": [
    "## Make figure"
   ]
  },
  {
   "cell_type": "code",
   "execution_count": 42,
   "metadata": {},
   "outputs": [],
   "source": [
    "colors = {'ABE8e-nCoCas9':'#4089b0', 'Sauri-ABE8e':'#ffe0e0', 'Cj-ABE8e':'#610051', 'ABE8e-nNme2Cas9':'#ffc080',\n",
    "          'ABE8e-nSaCas9':'#addead', 'ABE8e-SpCas9':'#fce283'}"
   ]
  },
  {
   "cell_type": "code",
   "execution_count": 43,
   "metadata": {},
   "outputs": [],
   "source": [
    "BE_names = {'ABE8e-nCoCas9':'CoABE8e', 'Sauri-ABE8e':'SauriABE8e', 'Cj-ABE8e':'CjABE8e', 'ABE8e-nNme2Cas9':'Nme2ABE8e',\n",
    "            'ABE8e-nSaCas9':'SaABE8e', 'ABE8e-SpCas9':'SpABE8e'}"
   ]
  },
  {
   "cell_type": "code",
   "execution_count": 44,
   "metadata": {},
   "outputs": [
    {
     "data": {
      "image/svg+xml": [
       "<?xml version=\"1.0\" encoding=\"utf-8\" standalone=\"no\"?>\n",
       "<!DOCTYPE svg PUBLIC \"-//W3C//DTD SVG 1.1//EN\"\n",
       "  \"http://www.w3.org/Graphics/SVG/1.1/DTD/svg11.dtd\">\n",
       "<!-- Created with matplotlib (http://matplotlib.org/) -->\n",
       "<svg height=\"153.952643pt\" version=\"1.1\" viewBox=\"0 0 602.182857 153.952643\" width=\"602.182857pt\" xmlns=\"http://www.w3.org/2000/svg\" xmlns:xlink=\"http://www.w3.org/1999/xlink\">\n",
       " <defs>\n",
       "  <style type=\"text/css\">\n",
       "*{stroke-linecap:butt;stroke-linejoin:round;}\n",
       "  </style>\n",
       " </defs>\n",
       " <g id=\"figure_1\">\n",
       "  <g id=\"patch_1\">\n",
       "   <path d=\"M 0 153.952643 \n",
       "L 602.182857 153.952643 \n",
       "L 602.182857 0 \n",
       "L 0 0 \n",
       "z\n",
       "\" style=\"fill:none;\"/>\n",
       "  </g>\n",
       "  <g id=\"axes_1\">\n",
       "   <g id=\"patch_2\">\n",
       "    <path d=\"M 98.847657 89.504071 \n",
       "C 98.847657 82.954895 96.977329 76.53994 93.457605 71.016965 \n",
       "C 89.93788 65.493991 84.913026 61.089376 78.9766 58.323413 \n",
       "C 73.040174 55.557449 66.435501 54.543509 59.942752 55.401364 \n",
       "C 53.450002 56.259218 47.335305 58.953704 42.320953 63.166539 \n",
       "L 64.448571 89.504071 \n",
       "L 98.847657 89.504071 \n",
       "z\n",
       "\" style=\"fill:#4089b0;stroke:#000000;stroke-linejoin:miter;\"/>\n",
       "   </g>\n",
       "   <g id=\"patch_3\">\n",
       "    <path d=\"M 42.320953 63.166539 \n",
       "C 37.893432 66.886345 34.474561 71.663228 32.381602 77.053907 \n",
       "C 30.288644 82.444586 29.588404 88.276992 30.345864 94.009893 \n",
       "C 31.103323 99.742793 33.294304 105.193196 36.71549 109.855319 \n",
       "C 40.136675 114.517442 44.678861 118.24247 49.920545 120.684731 \n",
       "C 55.16223 123.126993 60.936099 124.208531 66.706354 123.828982 \n",
       "C 72.476608 123.449434 78.059063 121.620913 82.935682 118.513102 \n",
       "C 87.8123 115.405291 91.827421 111.117391 94.608454 106.047306 \n",
       "C 97.389486 100.977222 98.847658 95.286789 98.847657 89.504065 \n",
       "L 64.448571 89.504071 \n",
       "L 42.320953 63.166539 \n",
       "z\n",
       "\" style=\"fill:#cccccc;stroke:#000000;stroke-linejoin:miter;\"/>\n",
       "   </g>\n",
       "   <g id=\"matplotlib.axis_1\"/>\n",
       "   <g id=\"matplotlib.axis_2\"/>\n",
       "   <g id=\"text_1\">\n",
       "    <text style=\"font-family:DejaVu Sans;font-size:10px;font-style:normal;font-weight:normal;text-anchor:middle;\" transform=\"rotate(-0, 73.165389, 73.555051)\" x=\"73.165389\" y=\"73.555051\">36.1%</text>\n",
       "   </g>\n",
       "   <g id=\"text_2\">\n",
       "    <text style=\"font-family:DejaVu Sans;font-size:10px;font-style:normal;font-weight:normal;text-anchor:middle;\" transform=\"rotate(-0, 55.731756, 110.971842)\" x=\"55.731756\" y=\"110.971842\">63.9%</text>\n",
       "   </g>\n",
       "   <g id=\"text_3\">\n",
       "    <text style=\"font-family:DejaVu Sans;font-size:12px;font-style:normal;font-weight:normal;text-anchor:middle;\" transform=\"rotate(-0, 64.448571, 29.7555)\" x=\"64.448571\" y=\"29.7555\">CoABE8e</text>\n",
       "   </g>\n",
       "  </g>\n",
       "  <g id=\"axes_2\">\n",
       "   <g id=\"patch_4\">\n",
       "    <path d=\"M 193.5048 89.504071 \n",
       "C 193.5048 83.970922 192.169776 78.518596 189.613411 73.611383 \n",
       "C 187.057046 68.70417 183.354023 64.485431 178.819669 61.314409 \n",
       "L 159.105714 89.504071 \n",
       "L 193.5048 89.504071 \n",
       "z\n",
       "\" style=\"fill:#addead;stroke:#000000;stroke-linejoin:miter;\"/>\n",
       "   </g>\n",
       "   <g id=\"patch_5\">\n",
       "    <path d=\"M 178.819669 61.314409 \n",
       "C 175.686559 59.123322 172.209969 57.469827 168.533101 56.42203 \n",
       "C 164.856233 55.374233 161.030274 54.946722 157.212817 55.157106 \n",
       "C 153.395361 55.36749 149.639551 56.21284 146.10009 57.658336 \n",
       "C 142.56063 59.103832 139.286794 61.129351 136.413434 63.65146 \n",
       "C 133.540073 66.17357 131.107188 69.157158 129.214992 72.47933 \n",
       "C 127.322795 75.801503 125.997628 79.41601 125.294076 83.173968 \n",
       "C 124.590523 86.931926 124.518379 90.78102 125.080616 94.562703 \n",
       "C 125.642852 98.344386 126.831641 102.006013 128.598017 105.396758 \n",
       "C 130.364392 108.787503 132.683764 111.860164 135.460595 114.488175 \n",
       "C 138.237427 117.116187 141.433061 119.262964 144.915868 120.840079 \n",
       "C 148.398675 122.417194 152.120169 123.402692 155.927061 123.75598 \n",
       "C 159.733953 124.109268 163.573245 123.825428 167.286794 122.91615 \n",
       "C 171.000344 122.006873 174.536454 120.484817 177.74947 118.412677 \n",
       "C 180.962486 116.340537 183.807679 113.747159 186.167853 110.739367 \n",
       "C 188.528027 107.731574 190.370326 104.35124 191.618864 100.7376 \n",
       "C 192.867403 97.123961 193.5048 93.327324 193.5048 89.504075 \n",
       "L 159.105714 89.504071 \n",
       "L 178.819669 61.314409 \n",
       "z\n",
       "\" style=\"fill:#cccccc;stroke:#000000;stroke-linejoin:miter;\"/>\n",
       "   </g>\n",
       "   <g id=\"matplotlib.axis_3\"/>\n",
       "   <g id=\"matplotlib.axis_4\"/>\n",
       "   <g id=\"text_4\">\n",
       "    <text style=\"font-family:DejaVu Sans;font-size:10px;font-style:normal;font-weight:normal;text-anchor:middle;\" transform=\"rotate(-0, 177.410332, 82.727834)\" x=\"177.410332\" y=\"82.727834\">15.3%</text>\n",
       "   </g>\n",
       "   <g id=\"text_5\">\n",
       "    <text style=\"font-family:DejaVu Sans;font-size:10px;font-style:normal;font-weight:normal;text-anchor:middle;\" transform=\"rotate(-0, 140.801096, 101.799058)\" x=\"140.801096\" y=\"101.799058\">84.7%</text>\n",
       "   </g>\n",
       "   <g id=\"text_6\">\n",
       "    <text style=\"font-family:DejaVu Sans;font-size:12px;font-style:normal;font-weight:normal;text-anchor:middle;\" transform=\"rotate(-0, 159.105714, 29.7555)\" x=\"159.105714\" y=\"29.7555\">SaABE8e</text>\n",
       "   </g>\n",
       "  </g>\n",
       "  <g id=\"axes_3\">\n",
       "   <g id=\"patch_6\">\n",
       "    <path d=\"M 288.161943 89.504071 \n",
       "C 288.161943 88.56175 288.123222 87.619827 288.045879 86.680685 \n",
       "C 287.968536 85.741543 287.852635 84.805975 287.69847 83.87635 \n",
       "L 253.762857 89.504071 \n",
       "L 288.161943 89.504071 \n",
       "z\n",
       "\" style=\"fill:#610051;stroke:#000000;stroke-linejoin:miter;\"/>\n",
       "   </g>\n",
       "   <g id=\"patch_7\">\n",
       "    <path d=\"M 287.69847 83.87635 \n",
       "C 286.978893 79.537238 285.433729 75.376133 283.146888 71.618999 \n",
       "C 280.860048 67.861866 277.873688 64.577969 274.349982 61.945635 \n",
       "C 270.826275 59.313302 266.83018 57.38106 262.578703 56.253839 \n",
       "C 258.327225 55.126618 253.898741 54.825197 249.533735 55.365946 \n",
       "C 245.168728 55.906694 240.94767 57.279644 237.099779 59.410236 \n",
       "C 233.251888 61.540829 229.848101 64.389788 227.073259 67.802402 \n",
       "C 224.298416 71.215017 222.203672 75.128375 220.90278 79.329966 \n",
       "C 219.601887 83.531557 219.118828 87.943924 219.479835 92.327457 \n",
       "C 219.840842 96.710991 221.03926 100.984879 223.010008 104.917033 \n",
       "C 224.980757 108.849188 227.687507 112.367118 230.98327 115.279787 \n",
       "C 234.279032 118.192455 238.10305 120.446166 242.247664 121.918535 \n",
       "C 246.392277 123.390903 250.78108 124.054785 255.175742 123.874129 \n",
       "C 259.570403 123.693473 263.889908 122.67161 267.89969 120.864031 \n",
       "C 271.909471 119.056452 275.535608 116.49648 278.581187 113.323131 \n",
       "C 281.626765 110.149783 284.03564 106.421559 285.676999 102.340919 \n",
       "C 287.318358 98.260278 288.161943 93.902446 288.161943 89.504073 \n",
       "L 253.762857 89.504071 \n",
       "L 287.69847 83.87635 \n",
       "z\n",
       "\" style=\"fill:#cccccc;stroke:#000000;stroke-linejoin:miter;\"/>\n",
       "   </g>\n",
       "   <g id=\"matplotlib.axis_5\"/>\n",
       "   <g id=\"matplotlib.axis_6\"/>\n",
       "   <g id=\"text_7\">\n",
       "    <text style=\"font-family:DejaVu Sans;font-size:10px;font-style:normal;font-weight:normal;text-anchor:middle;\" transform=\"rotate(-0, 274.33267, 90.569414)\" x=\"274.33267\" y=\"90.569414\">2.6%</text>\n",
       "   </g>\n",
       "   <g id=\"text_8\">\n",
       "    <text style=\"font-family:DejaVu Sans;font-size:10px;font-style:normal;font-weight:normal;text-anchor:middle;\" transform=\"rotate(-0, 233.193044, 93.957478)\" x=\"233.193044\" y=\"93.957478\">97.4%</text>\n",
       "   </g>\n",
       "   <g id=\"text_9\">\n",
       "    <text style=\"font-family:DejaVu Sans;font-size:12px;font-style:normal;font-weight:normal;text-anchor:middle;\" transform=\"rotate(-0, 253.762857, 29.7555)\" x=\"253.762857\" y=\"29.7555\">CjABE8e</text>\n",
       "   </g>\n",
       "  </g>\n",
       "  <g id=\"axes_4\">\n",
       "   <g id=\"patch_8\">\n",
       "    <path d=\"M 382.819086 89.504071 \n",
       "C 382.819086 82.162445 380.468755 75.010147 376.113924 69.09957 \n",
       "C 371.759092 63.188993 365.624366 58.824985 358.612414 56.649668 \n",
       "C 351.600461 54.474352 344.072935 54.599923 337.137439 57.007904 \n",
       "C 330.201943 59.415885 324.216186 63.982081 320.060918 70.03462 \n",
       "L 348.42 89.504071 \n",
       "L 382.819086 89.504071 \n",
       "z\n",
       "\" style=\"fill:#ffc080;stroke:#000000;stroke-linejoin:miter;\"/>\n",
       "   </g>\n",
       "   <g id=\"patch_9\">\n",
       "    <path d=\"M 320.060918 70.03462 \n",
       "C 317.010531 74.477793 315.046615 79.576285 314.328037 84.917661 \n",
       "C 313.609459 90.259037 314.156131 95.695279 315.923832 100.786633 \n",
       "C 317.691533 105.877987 320.631277 110.483362 324.505259 114.230217 \n",
       "C 328.379241 117.977071 333.080106 120.761573 338.227586 122.358474 \n",
       "C 343.375067 123.955376 348.826518 124.320425 354.140955 123.424092 \n",
       "C 359.455391 122.527758 364.485542 120.394881 368.824502 117.197995 \n",
       "C 373.163462 114.001109 376.690991 109.828806 379.121737 105.018595 \n",
       "C 381.552483 100.208385 382.819086 94.893566 382.819086 89.504071 \n",
       "L 348.42 89.504071 \n",
       "L 320.060918 70.03462 \n",
       "z\n",
       "\" style=\"fill:#cccccc;stroke:#000000;stroke-linejoin:miter;\"/>\n",
       "   </g>\n",
       "   <g id=\"matplotlib.axis_7\"/>\n",
       "   <g id=\"matplotlib.axis_8\"/>\n",
       "   <g id=\"text_10\">\n",
       "    <text style=\"font-family:DejaVu Sans;font-size:10px;font-style:normal;font-weight:normal;text-anchor:middle;\" transform=\"rotate(-0, 354.535448, 72.550805)\" x=\"354.535448\" y=\"72.550805\">40.4%</text>\n",
       "   </g>\n",
       "   <g id=\"text_11\">\n",
       "    <text style=\"font-family:DejaVu Sans;font-size:10px;font-style:normal;font-weight:normal;text-anchor:middle;\" transform=\"rotate(-0, 342.304552, 111.976088)\" x=\"342.304552\" y=\"111.976088\">59.6%</text>\n",
       "   </g>\n",
       "   <g id=\"text_12\">\n",
       "    <text style=\"font-family:DejaVu Sans;font-size:12px;font-style:normal;font-weight:normal;text-anchor:middle;\" transform=\"rotate(-0, 348.42, 29.7555)\" x=\"348.42\" y=\"29.7555\">Nme2ABE8e</text>\n",
       "   </g>\n",
       "  </g>\n",
       "  <g id=\"axes_5\">\n",
       "   <g id=\"patch_10\">\n",
       "    <path d=\"M 477.476229 89.504071 \n",
       "C 477.476229 84.597317 476.426365 79.746881 474.397316 75.279309 \n",
       "C 472.368267 70.811736 469.406612 66.829584 465.711738 63.60094 \n",
       "C 462.016863 60.372296 457.673587 57.971277 452.974311 56.559525 \n",
       "C 448.275034 55.147773 443.327633 54.757696 438.465179 55.415556 \n",
       "C 433.602724 56.073416 428.936839 57.76411 424.781641 60.373817 \n",
       "C 420.626443 62.983525 417.077319 66.452336 414.373205 70.546724 \n",
       "C 411.66909 74.641111 409.872061 79.267084 409.103098 84.11321 \n",
       "C 408.334135 88.959336 408.610889 93.914368 409.91473 98.644722 \n",
       "L 443.077143 89.504071 \n",
       "L 477.476229 89.504071 \n",
       "z\n",
       "\" style=\"fill:#ffe0e0;stroke:#000000;stroke-linejoin:miter;\"/>\n",
       "   </g>\n",
       "   <g id=\"patch_11\">\n",
       "    <path d=\"M 409.91473 98.644722 \n",
       "C 412.126107 106.66763 417.175517 113.621702 424.119797 118.208011 \n",
       "C 431.064076 122.794319 439.442152 124.708349 447.68911 123.592586 \n",
       "C 455.936068 122.476824 463.504342 118.40535 468.980278 112.138662 \n",
       "C 474.456213 105.871975 477.47623 97.826159 477.476229 89.504065 \n",
       "L 443.077143 89.504071 \n",
       "L 409.91473 98.644722 \n",
       "z\n",
       "\" style=\"fill:#cccccc;stroke:#000000;stroke-linejoin:miter;\"/>\n",
       "   </g>\n",
       "   <g id=\"matplotlib.axis_9\"/>\n",
       "   <g id=\"matplotlib.axis_10\"/>\n",
       "   <g id=\"text_13\">\n",
       "    <text style=\"font-family:DejaVu Sans;font-size:10px;font-style:normal;font-weight:normal;text-anchor:middle;\" transform=\"rotate(-0, 440.309964, 71.810337)\" x=\"440.309964\" y=\"71.810337\">54.3%</text>\n",
       "   </g>\n",
       "   <g id=\"text_14\">\n",
       "    <text style=\"font-family:DejaVu Sans;font-size:10px;font-style:normal;font-weight:normal;text-anchor:middle;\" transform=\"rotate(-0, 445.844323, 112.716555)\" x=\"445.844323\" y=\"112.716555\">45.7%</text>\n",
       "   </g>\n",
       "   <g id=\"text_15\">\n",
       "    <text style=\"font-family:DejaVu Sans;font-size:12px;font-style:normal;font-weight:normal;text-anchor:middle;\" transform=\"rotate(-0, 443.077143, 29.7555)\" x=\"443.077143\" y=\"29.7555\">SauriABE8e</text>\n",
       "   </g>\n",
       "  </g>\n",
       "  <g id=\"axes_6\">\n",
       "   <g id=\"patch_12\">\n",
       "    <path d=\"M 572.133371 89.504071 \n",
       "C 572.133371 85.858145 571.553729 82.235293 570.41618 78.77137 \n",
       "C 569.278631 75.307447 567.597575 72.046299 565.43605 69.110215 \n",
       "L 537.734286 89.504071 \n",
       "L 572.133371 89.504071 \n",
       "z\n",
       "\" style=\"fill:#4089b0;stroke:#000000;stroke-linejoin:miter;\"/>\n",
       "   </g>\n",
       "   <g id=\"patch_13\">\n",
       "    <path d=\"M 565.43605 69.110215 \n",
       "C 563.356794 66.285882 560.857781 63.796072 558.025795 61.727251 \n",
       "C 555.193809 59.65843 552.062017 58.034826 548.739176 56.912823 \n",
       "C 545.416335 55.790819 541.94136 55.183556 538.434929 55.112122 \n",
       "C 534.928497 55.040688 531.431674 55.505919 528.065893 56.49166 \n",
       "C 524.700113 57.477401 521.504793 58.972107 518.590898 60.923872 \n",
       "C 515.677004 62.875636 513.078661 65.2616 510.886101 67.998907 \n",
       "C 508.693542 70.736214 506.932445 73.792805 505.663968 77.062535 \n",
       "C 504.395491 80.332264 503.63449 83.776839 503.407392 87.276637 \n",
       "C 503.180294 90.776436 503.489759 94.290472 504.325039 97.696712 \n",
       "C 505.16032 101.102952 506.511634 104.361504 508.332055 107.359209 \n",
       "C 510.152476 110.356913 512.420683 113.058663 515.057908 115.370633 \n",
       "C 517.695134 117.682603 520.670492 119.577718 523.880657 120.990165 \n",
       "C 527.090822 122.402611 530.498198 123.315849 533.984457 123.698163 \n",
       "C 537.470715 124.080477 540.995028 123.927389 544.435005 123.244218 \n",
       "C 547.874982 122.561046 551.190336 121.35579 554.265935 119.670306 \n",
       "C 557.341533 117.984821 560.141357 115.838847 562.568175 113.306908 \n",
       "L 537.734286 89.504071 \n",
       "L 565.43605 69.110215 \n",
       "z\n",
       "\" style=\"fill:#d5f6ff;stroke:#000000;stroke-linejoin:miter;\"/>\n",
       "   </g>\n",
       "   <g id=\"patch_14\">\n",
       "    <path d=\"M 562.568175 113.306908 \n",
       "C 565.609064 110.134299 568.014005 106.408159 569.652621 102.330489 \n",
       "C 571.291237 98.252819 572.133372 93.898663 572.133371 89.50407 \n",
       "L 537.734286 89.504071 \n",
       "L 562.568175 113.306908 \n",
       "z\n",
       "\" style=\"fill:#cccccc;stroke:#000000;stroke-linejoin:miter;\"/>\n",
       "   </g>\n",
       "   <g id=\"matplotlib.axis_11\"/>\n",
       "   <g id=\"matplotlib.axis_12\"/>\n",
       "   <g id=\"text_16\">\n",
       "    <text style=\"font-family:DejaVu Sans;font-size:10px;font-style:normal;font-weight:normal;text-anchor:middle;\" transform=\"rotate(-0, 557.343422, 85.823826)\" x=\"557.343422\" y=\"85.823826\">10.1%</text>\n",
       "   </g>\n",
       "   <g id=\"text_17\">\n",
       "    <text style=\"font-family:DejaVu Sans;font-size:10px;font-style:normal;font-weight:normal;text-anchor:middle;\" transform=\"rotate(-0, 517.138149, 90.926986)\" x=\"517.138149\" y=\"90.926986\">77.7%</text>\n",
       "   </g>\n",
       "   <g id=\"text_18\">\n",
       "    <text style=\"font-family:DejaVu Sans;font-size:10px;font-style:normal;font-weight:normal;text-anchor:middle;\" transform=\"rotate(-0, 556.885287, 99.959297)\" x=\"556.885287\" y=\"99.959297\">12.2%</text>\n",
       "   </g>\n",
       "   <g id=\"text_19\">\n",
       "    <text style=\"font-family:DejaVu Sans;font-size:12px;font-style:normal;font-weight:normal;\" transform=\"translate(508.361473 16.318125)\">All 5 base</text>\n",
       "    <text style=\"font-family:DejaVu Sans;font-size:12px;font-style:normal;font-weight:normal;\" transform=\"translate(516.950848 29.7555)\">editors</text>\n",
       "   </g>\n",
       "  </g>\n",
       " </g>\n",
       "</svg>\n"
      ],
      "text/plain": [
       "<Figure size 691.2x144 with 6 Axes>"
      ]
     },
     "metadata": {},
     "output_type": "display_data"
    }
   ],
   "source": [
    "fig, axes = plt.subplots(nrows=1, ncols=6, figsize=(9.6, 2))\n",
    "for n,ax in enumerate(axes):\n",
    "    ABE = list(to_plot.keys())[n]\n",
    "    to_plot[ABE].plot(kind='pie', ax=ax, fontsize=10, autopct='%1.1f%%', radius=0.8,\n",
    "        colors = [colors[ABE], '#cccccc'] if ABE!='All 5 base\\neditors' else ['#4089b0', '#d5f6ff', '#cccccc'],\n",
    "        startangle = 0,  wedgeprops = {\"edgecolor\" : \"black\", 'linewidth': 1, 'antialiased': True}, labels=['']*len(to_plot[ABE]),\n",
    "        textprops={'color':'k'}, counterclock=True)\n",
    "    ax.set_title(BE_names[ABE] if ABE!='All 5 base\\neditors' else ABE, size=12)\n",
    "    ax.set_ylabel('')\n",
    "    ax.set_aspect('equal')\n",
    "\n",
    "plt.tight_layout()\n",
    "plt.subplots_adjust(wspace=-0.5)\n",
    "#plt.savefig('base_editor_targetable_pies.svg')\n",
    "plt.show()"
   ]
  },
  {
   "cell_type": "markdown",
   "metadata": {},
   "source": [
    "## Compute number of targetable sites in human genome"
   ]
  },
  {
   "cell_type": "code",
   "execution_count": 45,
   "metadata": {},
   "outputs": [],
   "source": [
    "hg38 = {rec.id:rec for rec in SeqIO.parse('/shares/CIBIO-Storage/CM/scratch/users/matteo.ciciani/test_cosmid/hg38/hg38.fa',\n",
    "                                          'fasta')}"
   ]
  },
  {
   "cell_type": "code",
   "execution_count": 46,
   "metadata": {},
   "outputs": [],
   "source": [
    "hg38_main = ['chr{}'.format(i) for i in range(1,23)] + ['chrX', 'chrY']"
   ]
  },
  {
   "cell_type": "code",
   "execution_count": 47,
   "metadata": {},
   "outputs": [],
   "source": [
    "PAM_nucleases = {'CoCas9': ['ATCT', 'ATGT', 'ATTT', 'GCCT', 'GCGT', 'GCTT', 'GAAT', 'GACT', 'GAGT', 'GATT', 'GTAT', 'GTCT', 'GTGT',\n",
    "                            'GTTT'],\n",
    "                 'SaCas9': ['GAAT', 'GAGT', 'GGAT', 'GGGT'],\n",
    "                 'CjCas9': ['AACAC', 'AATAC', 'AGCAC', 'AGTAC', 'CACAC', 'CATAC', 'CGCAC', 'CGTAC', 'GACAC', 'GATAC', 'GGCAC',\n",
    "                            'GGTAC'],\n",
    "                 'Nme2Cas9': ['CC'],\n",
    "                 'SpCas9': ['GG']}"
   ]
  },
  {
   "cell_type": "code",
   "execution_count": 48,
   "metadata": {},
   "outputs": [],
   "source": [
    "PAM_nucleases_offset = {\n",
    "    'CoCas9': 4,\n",
    "    'SaCas9': 2,\n",
    "    'CjCas9': 3,\n",
    "    'Nme2Cas9': 4,\n",
    "    'SpCas9': 2}"
   ]
  },
  {
   "cell_type": "code",
   "execution_count": 49,
   "metadata": {},
   "outputs": [],
   "source": [
    "matches_per_chr_plus = {}\n",
    "for Cas in PAM_nucleases:\n",
    "    matches_per_chr_plus[Cas] = {}\n",
    "    for chrom in hg38_main:\n",
    "        matches_per_chr_plus[Cas][chrom] = {}\n",
    "        for PAM in PAM_nucleases[Cas]:\n",
    "            matches_per_chr_plus[Cas][chrom][PAM] = [m for m in re.finditer('(?={})'.format(PAM), str(hg38[chrom].seq).upper())]"
   ]
  },
  {
   "cell_type": "code",
   "execution_count": 50,
   "metadata": {},
   "outputs": [],
   "source": [
    "matches_per_chr_minus = {}\n",
    "for Cas in PAM_nucleases:\n",
    "    matches_per_chr_minus[Cas] = {}\n",
    "    for chrom in hg38_main:\n",
    "        matches_per_chr_minus[Cas][chrom] = {}\n",
    "        for PAM in PAM_nucleases[Cas]:\n",
    "            PAM_revcomp = str(Seq.Seq(PAM).reverse_complement())\n",
    "            matches_per_chr_minus[Cas][chrom][PAM] = [m for m in re.finditer('(?={})'.format(PAM_revcomp),\n",
    "                                                                             str(hg38[chrom].seq).upper())]"
   ]
  },
  {
   "cell_type": "code",
   "execution_count": 51,
   "metadata": {},
   "outputs": [],
   "source": [
    "matches_per_chr_overall = {}\n",
    "for Cas in PAM_nucleases:\n",
    "    matches_per_chr_overall[Cas] = {}\n",
    "    for chrom in hg38_main:\n",
    "        matches_per_chr_overall[Cas][chrom] = []\n",
    "        for PAM in PAM_nucleases[Cas]:\n",
    "            matches_per_chr_overall[Cas][chrom].extend([m.start()-3-PAM_nucleases_offset[Cas]\n",
    "                                                        for m in matches_per_chr_plus[Cas][chrom][PAM]])\n",
    "            matches_per_chr_overall[Cas][chrom].extend([m.start()+len(PAM)+3+PAM_nucleases_offset[Cas]\n",
    "                                                        for m in matches_per_chr_plus[Cas][chrom][PAM]])"
   ]
  },
  {
   "cell_type": "code",
   "execution_count": 52,
   "metadata": {},
   "outputs": [],
   "source": [
    "matches_per_chr_unique = {Cas:{chrom:np.unique(matches_per_chr_overall[Cas][chrom]) for chrom in matches_per_chr_overall[Cas]}\n",
    "                          for Cas in matches_per_chr_overall}"
   ]
  },
  {
   "cell_type": "code",
   "execution_count": 53,
   "metadata": {},
   "outputs": [],
   "source": [
    "genome_size = sum([len(str(hg38[chrom].seq).replace('N', '')) for chrom in hg38_main])"
   ]
  },
  {
   "cell_type": "code",
   "execution_count": 54,
   "metadata": {},
   "outputs": [],
   "source": [
    "matches_per_chr_count = {Cas:{chrom:len(matches_per_chr_unique[Cas][chrom]) for chrom in matches_per_chr_overall[Cas]}\n",
    "                          for Cas in matches_per_chr_overall}"
   ]
  },
  {
   "cell_type": "code",
   "execution_count": 55,
   "metadata": {},
   "outputs": [],
   "source": [
    "total_number_sites = pd.DataFrame(matches_per_chr_count).sum()"
   ]
  },
  {
   "cell_type": "code",
   "execution_count": 56,
   "metadata": {},
   "outputs": [],
   "source": [
    "genome_size = sum([len(str(hg38[chrom].seq).replace('N', '')) for chrom in hg38_main])"
   ]
  },
  {
   "cell_type": "code",
   "execution_count": 57,
   "metadata": {},
   "outputs": [],
   "source": [
    "to_plot = pd.concat([total_number_sites, genome_size-total_number_sites], axis=1)\n",
    "to_plot.columns = ['Targetable', 'Not targetable']"
   ]
  },
  {
   "cell_type": "code",
   "execution_count": 59,
   "metadata": {},
   "outputs": [
    {
     "data": {
      "text/html": [
       "<div>\n",
       "<style scoped>\n",
       "    .dataframe tbody tr th:only-of-type {\n",
       "        vertical-align: middle;\n",
       "    }\n",
       "\n",
       "    .dataframe tbody tr th {\n",
       "        vertical-align: top;\n",
       "    }\n",
       "\n",
       "    .dataframe thead th {\n",
       "        text-align: right;\n",
       "    }\n",
       "</style>\n",
       "<table border=\"1\" class=\"dataframe\">\n",
       "  <thead>\n",
       "    <tr style=\"text-align: right;\">\n",
       "      <th></th>\n",
       "      <th>Targetable</th>\n",
       "      <th>Not targetable</th>\n",
       "    </tr>\n",
       "  </thead>\n",
       "  <tbody>\n",
       "    <tr>\n",
       "      <th>CoCas9</th>\n",
       "      <td>347211656</td>\n",
       "      <td>2590429870</td>\n",
       "    </tr>\n",
       "    <tr>\n",
       "      <th>SaCas9</th>\n",
       "      <td>84521869</td>\n",
       "      <td>2853119657</td>\n",
       "    </tr>\n",
       "    <tr>\n",
       "      <th>CjCas9</th>\n",
       "      <td>49891730</td>\n",
       "      <td>2887749796</td>\n",
       "    </tr>\n",
       "    <tr>\n",
       "      <th>Nme2Cas9</th>\n",
       "      <td>292152924</td>\n",
       "      <td>2645488602</td>\n",
       "    </tr>\n",
       "    <tr>\n",
       "      <th>SpCas9</th>\n",
       "      <td>294195880</td>\n",
       "      <td>2643445646</td>\n",
       "    </tr>\n",
       "  </tbody>\n",
       "</table>\n",
       "</div>"
      ],
      "text/plain": [
       "          Targetable  Not targetable\n",
       "CoCas9     347211656      2590429870\n",
       "SaCas9      84521869      2853119657\n",
       "CjCas9      49891730      2887749796\n",
       "Nme2Cas9   292152924      2645488602\n",
       "SpCas9     294195880      2643445646"
      ]
     },
     "execution_count": 59,
     "metadata": {},
     "output_type": "execute_result"
    }
   ],
   "source": [
    "to_plot"
   ]
  },
  {
   "cell_type": "code",
   "execution_count": 60,
   "metadata": {},
   "outputs": [],
   "source": [
    "colors_nuclease = {'CoCas9':'#4089b0', 'CjCas9':'#610051', 'Nme2Cas9':'#ffc080', 'SaCas9':'#addead', 'SpCas9':'#dddd00'}"
   ]
  },
  {
   "cell_type": "code",
   "execution_count": 61,
   "metadata": {},
   "outputs": [
    {
     "data": {
      "image/svg+xml": [
       "<?xml version=\"1.0\" encoding=\"utf-8\" standalone=\"no\"?>\n",
       "<!DOCTYPE svg PUBLIC \"-//W3C//DTD SVG 1.1//EN\"\n",
       "  \"http://www.w3.org/Graphics/SVG/1.1/DTD/svg11.dtd\">\n",
       "<!-- Created with matplotlib (http://matplotlib.org/) -->\n",
       "<svg height=\"155.295366pt\" version=\"1.1\" viewBox=\"0 0 508.610575 155.295366\" width=\"508.610575pt\" xmlns=\"http://www.w3.org/2000/svg\" xmlns:xlink=\"http://www.w3.org/1999/xlink\">\n",
       " <defs>\n",
       "  <style type=\"text/css\">\n",
       "*{stroke-linecap:butt;stroke-linejoin:round;}\n",
       "  </style>\n",
       " </defs>\n",
       " <g id=\"figure_1\">\n",
       "  <g id=\"patch_1\">\n",
       "   <path d=\"M 0 155.295366 \n",
       "L 508.610575 155.295366 \n",
       "L 508.610575 0 \n",
       "L 0 0 \n",
       "z\n",
       "\" style=\"fill:none;\"/>\n",
       "  </g>\n",
       "  <g id=\"axes_1\">\n",
       "   <g id=\"patch_2\">\n",
       "    <path d=\"M 106.076248 83.456746 \n",
       "C 106.076248 79.206934 105.284974 74.994035 103.742958 71.033847 \n",
       "C 102.200942 67.07366 99.93497 63.434978 97.061114 60.304187 \n",
       "L 71.838621 83.456746 \n",
       "L 106.076248 83.456746 \n",
       "z\n",
       "\" style=\"fill:#4089b0;stroke:#000000;stroke-linejoin:miter;\"/>\n",
       "   </g>\n",
       "   <g id=\"patch_3\">\n",
       "    <path d=\"M 97.061114 60.304187 \n",
       "C 94.381999 57.385548 91.216502 54.953957 87.705817 53.117873 \n",
       "C 84.195133 51.281788 80.392244 50.068922 76.466776 49.533371 \n",
       "C 72.541308 48.997821 68.552505 49.14767 64.678283 49.976233 \n",
       "C 60.804061 50.804797 57.102892 52.299571 53.739861 54.393882 \n",
       "C 50.376831 56.488193 47.402695 59.150434 44.950113 62.261857 \n",
       "C 42.497531 65.37328 40.603518 68.886928 39.352553 72.646077 \n",
       "C 38.101589 76.405226 37.512553 80.353142 37.61172 84.313733 \n",
       "C 37.710887 88.274323 38.49676 92.187814 39.934285 95.879648 \n",
       "C 41.37181 99.571481 43.439292 102.985939 46.044513 105.970723 \n",
       "C 48.649735 108.955507 51.753376 111.46557 55.217003 113.388952 \n",
       "C 58.680631 115.312335 62.451969 116.620009 66.362802 117.253647 \n",
       "C 70.273635 117.887286 74.264939 117.837325 78.158687 117.105994 \n",
       "C 82.052434 116.374663 85.789859 114.972999 89.204257 112.963522 \n",
       "C 92.618655 110.954044 95.658495 108.367082 98.188189 105.318022 \n",
       "C 100.717882 102.268962 102.69925 98.803824 104.043915 95.077164 \n",
       "C 105.388581 91.350505 106.076249 87.41857 106.076248 83.456738 \n",
       "L 71.838621 83.456746 \n",
       "L 97.061114 60.304187 \n",
       "z\n",
       "\" style=\"fill:#cccccc;stroke:#000000;stroke-linejoin:miter;\"/>\n",
       "   </g>\n",
       "   <g id=\"matplotlib.axis_1\"/>\n",
       "   <g id=\"matplotlib.axis_2\"/>\n",
       "   <g id=\"text_1\">\n",
       "    <text style=\"font-family:DejaVu Sans;font-size:10px;font-style:normal;font-weight:normal;text-anchor:middle;\" transform=\"rotate(-0, 90.981223, 78.762382)\" x=\"90.981223\" y=\"78.762382\">11.8%</text>\n",
       "   </g>\n",
       "   <g id=\"text_2\">\n",
       "    <text style=\"font-family:DejaVu Sans;font-size:10px;font-style:normal;font-weight:normal;text-anchor:middle;\" transform=\"rotate(-0, 52.696019, 93.669862)\" x=\"52.696019\" y=\"93.669862\">88.2%</text>\n",
       "   </g>\n",
       "   <g id=\"text_3\">\n",
       "    <text style=\"font-family:DejaVu Sans;font-size:12px;font-style:normal;font-weight:normal;text-anchor:middle;\" transform=\"rotate(-0, 71.838621, 16.318125)\" x=\"71.838621\" y=\"16.318125\">CoCas9</text>\n",
       "   </g>\n",
       "  </g>\n",
       "  <g id=\"axes_2\">\n",
       "   <g id=\"patch_4\">\n",
       "    <path d=\"M 197.309582 83.456746 \n",
       "C 197.309582 82.424991 197.262944 81.393763 197.16981 80.366221 \n",
       "C 197.076677 79.338678 196.937144 78.31587 196.751637 77.300929 \n",
       "L 163.071954 83.456746 \n",
       "L 197.309582 83.456746 \n",
       "z\n",
       "\" style=\"fill:#addead;stroke:#000000;stroke-linejoin:miter;\"/>\n",
       "   </g>\n",
       "   <g id=\"patch_5\">\n",
       "    <path d=\"M 196.751637 77.300929 \n",
       "C 195.966663 73.006181 194.367402 68.900952 192.040239 65.20699 \n",
       "C 189.713076 61.513027 186.700681 58.29806 183.165769 55.735748 \n",
       "C 179.630858 53.173435 175.638244 51.310758 171.40359 50.248328 \n",
       "C 167.168936 49.185899 162.769887 48.943198 158.44406 49.533336 \n",
       "C 154.118232 50.123473 149.944942 51.535628 146.14961 53.693523 \n",
       "C 142.354279 55.851417 139.006497 58.715486 136.287094 62.131023 \n",
       "C 133.567692 65.546561 131.526531 69.450943 130.273867 73.633272 \n",
       "C 129.021202 77.815602 128.580002 82.199194 128.974097 86.547266 \n",
       "C 129.368193 90.895339 130.590358 95.128169 132.574577 99.017117 \n",
       "C 134.558797 102.906066 137.268689 106.379828 140.557877 109.250766 \n",
       "C 143.847065 112.121704 147.655242 114.337179 151.776705 115.777521 \n",
       "C 155.898169 117.217862 160.257352 117.856661 164.618789 117.659413 \n",
       "C 168.980227 117.462164 173.263952 116.432485 177.238576 114.625993 \n",
       "C 181.213199 112.819501 184.805846 110.26932 187.822457 107.113198 \n",
       "C 190.839068 103.957076 193.224333 100.252883 194.84941 96.200702 \n",
       "C 196.474487 92.148521 197.30958 87.82265 197.309582 83.456755 \n",
       "L 163.071954 83.456746 \n",
       "L 196.751637 77.300929 \n",
       "z\n",
       "\" style=\"fill:#cccccc;stroke:#000000;stroke-linejoin:miter;\"/>\n",
       "   </g>\n",
       "   <g id=\"matplotlib.axis_3\"/>\n",
       "   <g id=\"matplotlib.axis_4\"/>\n",
       "   <g id=\"text_4\">\n",
       "    <text style=\"font-family:DejaVu Sans;font-size:10px;font-style:normal;font-weight:normal;text-anchor:middle;\" transform=\"rotate(-0, 183.530668, 84.361806)\" x=\"183.530668\" y=\"84.361806\">2.9%</text>\n",
       "   </g>\n",
       "   <g id=\"text_5\">\n",
       "    <text style=\"font-family:DejaVu Sans;font-size:10px;font-style:normal;font-weight:normal;text-anchor:middle;\" transform=\"rotate(-0, 142.61324, 88.070433)\" x=\"142.61324\" y=\"88.070433\">97.1%</text>\n",
       "   </g>\n",
       "   <g id=\"text_6\">\n",
       "    <text style=\"font-family:DejaVu Sans;font-size:12px;font-style:normal;font-weight:normal;text-anchor:middle;\" transform=\"rotate(-0, 163.071954, 16.318125)\" x=\"163.071954\" y=\"16.318125\">SaCas9</text>\n",
       "   </g>\n",
       "  </g>\n",
       "  <g id=\"axes_3\">\n",
       "   <g id=\"patch_6\">\n",
       "    <path d=\"M 288.542915 83.456746 \n",
       "C 288.542915 82.847787 288.526668 82.238937 288.494192 81.630845 \n",
       "C 288.461717 81.022753 288.413023 80.415636 288.348164 79.810141 \n",
       "L 254.305287 83.456746 \n",
       "L 288.542915 83.456746 \n",
       "z\n",
       "\" style=\"fill:#610051;stroke:#000000;stroke-linejoin:miter;\"/>\n",
       "   </g>\n",
       "   <g id=\"patch_7\">\n",
       "    <path d=\"M 288.348164 79.810141 \n",
       "C 287.877479 75.416067 286.56047 71.154399 284.469996 67.260898 \n",
       "C 282.379522 63.367397 279.554856 59.915211 276.152263 57.095319 \n",
       "C 272.74967 54.275427 268.833074 52.140807 264.619146 50.809549 \n",
       "C 260.405219 49.478291 255.973128 48.975405 251.568062 49.328711 \n",
       "C 247.162996 49.682018 242.867714 50.884879 238.919836 52.870752 \n",
       "C 234.971958 54.856624 231.445653 57.588199 228.536002 60.914362 \n",
       "C 225.62635 64.240525 223.388016 68.098787 221.944826 72.275704 \n",
       "C 220.501637 76.452621 219.880705 80.869721 220.116382 85.282643 \n",
       "C 220.352059 89.695566 221.439918 94.021406 223.319775 98.020852 \n",
       "C 225.199633 102.020297 227.836173 105.618211 231.083538 108.615551 \n",
       "C 234.330904 111.612892 238.128086 113.953348 242.26502 115.507442 \n",
       "C 246.401954 117.061535 250.800919 117.800071 255.218558 117.682191 \n",
       "C 259.636197 117.56431 263.989516 116.59223 268.037683 114.819725 \n",
       "C 272.08585 113.04722 275.752813 110.507591 278.835709 107.341334 \n",
       "C 281.918605 104.175078 284.359516 100.441677 286.023409 96.34767 \n",
       "C 287.687301 92.253663 288.542914 87.875964 288.542915 83.456752 \n",
       "L 254.305287 83.456746 \n",
       "L 288.348164 79.810141 \n",
       "z\n",
       "\" style=\"fill:#cccccc;stroke:#000000;stroke-linejoin:miter;\"/>\n",
       "   </g>\n",
       "   <g id=\"matplotlib.axis_5\"/>\n",
       "   <g id=\"matplotlib.axis_6\"/>\n",
       "   <g id=\"text_7\">\n",
       "    <text style=\"font-family:DejaVu Sans;font-size:10px;font-style:normal;font-weight:normal;text-anchor:middle;\" transform=\"rotate(-0, 274.81863, 85.12058)\" x=\"274.81863\" y=\"85.12058\">1.7%</text>\n",
       "   </g>\n",
       "   <g id=\"text_8\">\n",
       "    <text style=\"font-family:DejaVu Sans;font-size:10px;font-style:normal;font-weight:normal;text-anchor:middle;\" transform=\"rotate(-0, 233.791944, 87.311659)\" x=\"233.791944\" y=\"87.311659\">98.3%</text>\n",
       "   </g>\n",
       "   <g id=\"text_9\">\n",
       "    <text style=\"font-family:DejaVu Sans;font-size:12px;font-style:normal;font-weight:normal;text-anchor:middle;\" transform=\"rotate(-0, 254.305287, 16.318125)\" x=\"254.305287\" y=\"16.318125\">CjCas9</text>\n",
       "   </g>\n",
       "  </g>\n",
       "  <g id=\"axes_4\">\n",
       "   <g id=\"patch_8\">\n",
       "    <path d=\"M 379.776248 83.456746 \n",
       "C 379.776248 79.883819 379.21696 76.332812 378.118721 72.932859 \n",
       "C 377.020483 69.532906 375.39677 66.325726 373.30663 63.427947 \n",
       "L 345.538621 83.456746 \n",
       "L 379.776248 83.456746 \n",
       "z\n",
       "\" style=\"fill:#ffc080;stroke:#000000;stroke-linejoin:miter;\"/>\n",
       "   </g>\n",
       "   <g id=\"patch_9\">\n",
       "    <path d=\"M 373.30663 63.427947 \n",
       "C 370.93947 60.146107 368.009136 57.309757 364.6519 55.050801 \n",
       "C 361.294663 52.791844 357.563385 51.145848 353.631586 50.189358 \n",
       "C 349.699786 49.232869 345.629372 48.980945 341.609634 49.445303 \n",
       "C 337.589896 49.909662 333.684126 51.08299 330.073959 52.910725 \n",
       "C 326.463792 54.73846 323.20607 57.191822 320.452291 60.15672 \n",
       "C 317.698512 63.121619 315.492035 66.55137 313.935469 70.286477 \n",
       "C 312.378904 74.021585 311.49676 78.003237 311.330059 82.046272 \n",
       "C 311.163358 86.089307 311.714726 90.130066 312.958522 93.980637 \n",
       "C 314.202317 97.831207 316.118957 101.430961 318.619308 104.612496 \n",
       "C 321.11966 107.794031 324.164356 110.507251 327.611804 112.625983 \n",
       "C 331.059252 114.744714 334.855172 116.235595 338.823038 117.029295 \n",
       "C 342.790905 117.822995 346.868242 117.907017 350.865437 117.277452 \n",
       "C 354.862632 116.647887 358.716748 115.314649 362.248554 113.339739 \n",
       "C 365.78036 111.364828 368.934245 108.779341 371.563542 105.703513 \n",
       "C 374.192838 102.627684 376.256147 99.109944 377.657516 95.313882 \n",
       "C 379.058885 91.51782 379.776249 87.503206 379.776248 83.456736 \n",
       "L 345.538621 83.456746 \n",
       "L 373.30663 63.427947 \n",
       "z\n",
       "\" style=\"fill:#cccccc;stroke:#000000;stroke-linejoin:miter;\"/>\n",
       "   </g>\n",
       "   <g id=\"matplotlib.axis_7\"/>\n",
       "   <g id=\"matplotlib.axis_8\"/>\n",
       "   <g id=\"text_10\">\n",
       "    <text style=\"font-family:DejaVu Sans;font-size:10px;font-style:normal;font-weight:normal;text-anchor:middle;\" transform=\"rotate(-0, 365.086681, 79.901789)\" x=\"365.086681\" y=\"79.901789\">9.9%</text>\n",
       "   </g>\n",
       "   <g id=\"text_11\">\n",
       "    <text style=\"font-family:DejaVu Sans;font-size:10px;font-style:normal;font-weight:normal;text-anchor:middle;\" transform=\"rotate(-0, 325.990561, 92.530455)\" x=\"325.990561\" y=\"92.530455\">90.1%</text>\n",
       "   </g>\n",
       "   <g id=\"text_12\">\n",
       "    <text style=\"font-family:DejaVu Sans;font-size:12px;font-style:normal;font-weight:normal;text-anchor:middle;\" transform=\"rotate(-0, 345.538621, 16.318125)\" x=\"345.538621\" y=\"16.318125\">Nme2Cas9</text>\n",
       "   </g>\n",
       "  </g>\n",
       "  <g id=\"axes_5\">\n",
       "   <g id=\"patch_10\">\n",
       "    <path d=\"M 471.009582 83.456746 \n",
       "C 471.009582 79.858732 470.442412 76.283105 469.328985 72.861705 \n",
       "C 468.215558 69.440305 466.569729 66.215706 464.452183 63.306806 \n",
       "L 436.771954 83.456746 \n",
       "L 471.009582 83.456746 \n",
       "z\n",
       "\" style=\"fill:#dddd00;stroke:#000000;stroke-linejoin:miter;\"/>\n",
       "   </g>\n",
       "   <g id=\"patch_11\">\n",
       "    <path d=\"M 464.452183 63.306806 \n",
       "C 462.072554 60.03788 459.13256 57.216186 455.768711 54.972744 \n",
       "C 452.404863 52.729302 448.670043 51.09938 444.737671 50.15866 \n",
       "C 440.805298 49.21794 436.737192 48.981212 432.722248 49.459466 \n",
       "C 428.707303 49.93772 424.808637 51.123439 421.207277 52.961566 \n",
       "C 417.605916 54.799693 414.358477 57.261332 411.615748 60.232181 \n",
       "C 408.873018 63.20303 406.678116 66.636385 405.132956 70.372826 \n",
       "C 403.587797 74.109267 402.716672 78.090053 402.560029 82.130347 \n",
       "C 402.403387 86.17064 402.96369 90.206924 404.214921 94.051781 \n",
       "C 405.466153 97.896638 407.388644 101.489625 409.893126 104.663909 \n",
       "C 412.397609 107.838192 415.44471 110.543871 418.892946 112.655311 \n",
       "C 422.341182 114.766751 426.136342 116.25076 430.102206 117.038431 \n",
       "C 434.068071 117.826102 438.142294 117.905052 442.135697 117.271615 \n",
       "C 446.1291 116.638178 449.978903 115.302313 453.50635 113.326047 \n",
       "C 457.033796 111.349781 460.183432 108.764182 462.80901 105.689309 \n",
       "C 465.434588 102.614435 467.494832 99.098625 468.89408 95.305129 \n",
       "C 470.293327 91.511632 471.00958 87.500086 471.009582 83.456757 \n",
       "L 436.771954 83.456746 \n",
       "L 464.452183 63.306806 \n",
       "z\n",
       "\" style=\"fill:#cccccc;stroke:#000000;stroke-linejoin:miter;\"/>\n",
       "   </g>\n",
       "   <g id=\"matplotlib.axis_9\"/>\n",
       "   <g id=\"matplotlib.axis_10\"/>\n",
       "   <g id=\"text_13\">\n",
       "    <text style=\"font-family:DejaVu Sans;font-size:10px;font-style:normal;font-weight:normal;text-anchor:middle;\" transform=\"rotate(-0, 456.306172, 79.859096)\" x=\"456.306172\" y=\"79.859096\">10.0%</text>\n",
       "   </g>\n",
       "   <g id=\"text_14\">\n",
       "    <text style=\"font-family:DejaVu Sans;font-size:10px;font-style:normal;font-weight:normal;text-anchor:middle;\" transform=\"rotate(-0, 417.237735, 92.573142)\" x=\"417.237735\" y=\"92.573142\">90.0%</text>\n",
       "   </g>\n",
       "   <g id=\"text_15\">\n",
       "    <text style=\"font-family:DejaVu Sans;font-size:12px;font-style:normal;font-weight:normal;text-anchor:middle;\" transform=\"rotate(-0, 436.771954, 16.318125)\" x=\"436.771954\" y=\"16.318125\">SpCas9</text>\n",
       "   </g>\n",
       "  </g>\n",
       " </g>\n",
       "</svg>\n"
      ],
      "text/plain": [
       "<Figure size 576x144 with 5 Axes>"
      ]
     },
     "metadata": {},
     "output_type": "display_data"
    }
   ],
   "source": [
    "fig, axes = plt.subplots(nrows=1, ncols=5, figsize=(8, 2))\n",
    "for n,ax in enumerate(axes):\n",
    "    Cas9 = to_plot.index[n]\n",
    "    to_plot.loc[Cas9].plot(kind='pie', ax=ax, fontsize=10, autopct='%1.1f%%',\n",
    "        colors = [colors_nuclease[Cas9], '#cccccc'], radius=0.7,\n",
    "        startangle = 0,  wedgeprops = {\"edgecolor\" : \"black\", 'linewidth': 1, 'antialiased': True}, labels=['', ''],\n",
    "        textprops={'color':'k'}, counterclock=True)\n",
    "    ax.set_title(Cas9, size=12)\n",
    "    ax.set_ylabel('')\n",
    "    ax.set_aspect('equal')\n",
    "\n",
    "plt.tight_layout()\n",
    "plt.subplots_adjust(wspace=-0.5)\n",
    "plt.show()"
   ]
  },
  {
   "cell_type": "code",
   "execution_count": null,
   "metadata": {},
   "outputs": [],
   "source": []
  }
 ],
 "metadata": {
  "kernelspec": {
   "display_name": "Python 3",
   "language": "python",
   "name": "python3"
  },
  "language_info": {
   "codemirror_mode": {
    "name": "ipython",
    "version": 3
   },
   "file_extension": ".py",
   "mimetype": "text/x-python",
   "name": "python",
   "nbconvert_exporter": "python",
   "pygments_lexer": "ipython3",
   "version": "3.7.8"
  }
 },
 "nbformat": 4,
 "nbformat_minor": 4
}
